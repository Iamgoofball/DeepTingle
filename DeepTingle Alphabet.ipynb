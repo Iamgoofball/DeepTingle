{
 "cells": [
  {
   "cell_type": "markdown",
   "metadata": {},
   "source": [
    "# Loading & Preparing Data"
   ]
  },
  {
   "cell_type": "code",
   "execution_count": 2,
   "metadata": {
    "collapsed": false
   },
   "outputs": [
    {
     "name": "stdout",
     "output_type": "stream",
     "text": [
      "135 stories has been loaded\n",
      "Number of different characters: 51\n",
      "Different characters: ['\\n', ' ', '!', '\"', '#', \"'\", '(', ')', ',', '-', '.', '/', '0', '1', '2', '3', '4', '5', '6', '7', '8', '9', ':', ';', '?', 'a', 'b', 'c', 'd', 'e', 'f', 'g', 'h', 'i', 'j', 'k', 'l', 'm', 'n', 'o', 'p', 'q', 'r', 's', 't', 'u', 'v', 'w', 'x', 'y', 'z']\n",
      "Number of characters in the text: 3044178\n",
      "Converting input data to sequences...\n",
      "All data has been converted...\n",
      "Number of patterns: 3044078\n",
      "Reshaping the data\n"
     ]
    }
   ],
   "source": [
    "from os import listdir;\n",
    "import numpy as np;\n",
    "from keras.utils import np_utils;\n",
    "from keras.callbacks import ModelCheckpoint;\n",
    "import sys;\n",
    "from keras.models import Sequential;\n",
    "from keras.layers import Dense, LSTM, Dropout;\n",
    "\n",
    "seqLength = 100;\n",
    "path = \"Stories/\";\n",
    "files = [f for f in listdir(path) if (\"DS_Store\" not in f)];\n",
    "rawData = \"\";\n",
    "startingData = [];\n",
    "uniqueWords = [];\n",
    "for f in files:\n",
    "    text = open(path + f).read();\n",
    "    \n",
    "    text = text.replace(\"\\t\", \" \");\n",
    "    text = text.replace('–', \" - \");\n",
    "    text = text.replace('—', \" - \");\n",
    "    text = text.replace('‘', \" ' \"); \n",
    "    text = text.replace('…', \" . \");\n",
    "    text = text.replace('ç', \"c\");\n",
    "    text = text.replace('é', \"e\");\n",
    "    text = text.lower();\n",
    "    \n",
    "    rawData += text;\n",
    "    startingData.append(text[0:seqLength]);\n",
    "    \n",
    "chars = sorted(list(set(rawData)));\n",
    "numChars = len(chars);\n",
    "numData = len(rawData);\n",
    "\n",
    "print(\"%d stories has been loaded\"%len(files));\n",
    "print(\"Number of different characters: %d\"%numChars);\n",
    "print(\"Different characters: \" + str(chars));\n",
    "print(\"Number of characters in the text: %d\"%numData);\n",
    "\n",
    "charInt = dict((c, i) for i,c in enumerate(chars));\n",
    "intChar = dict((i, c) for i,c in enumerate(chars));\n",
    "\n",
    "print(\"Converting input data to sequences...\");\n",
    "dataX = [];\n",
    "dataY = [];\n",
    "for i in range(numData - seqLength):\n",
    "    seqIn = rawData[i:i+seqLength];\n",
    "    seqOut = rawData[i+seqLength];\n",
    "    \n",
    "    dataX.append([charInt[c] for c in seqIn]);\n",
    "    dataY.append(charInt[seqOut]);\n",
    "    \n",
    "numPatterns = len(dataX);\n",
    "print(\"All data has been converted...\");\n",
    "print(\"Number of patterns: %d\"%numPatterns);\n",
    "print(\"Reshaping the data\");\n",
    "X = np.reshape(dataX, (numPatterns, seqLength, 1));\n",
    "X = X/float(numChars);\n",
    "Y = np_utils.to_categorical(dataY);"
   ]
  },
  {
   "cell_type": "markdown",
   "metadata": {},
   "source": [
    "# Training Deep Tingle"
   ]
  },
  {
   "cell_type": "code",
   "execution_count": null,
   "metadata": {
    "collapsed": false
   },
   "outputs": [],
   "source": [
    "model = Sequential();\n",
    "model.add(LSTM(256, input_shape=(X.shape[1], X.shape[2]), return_sequences=True));\n",
    "model.add(Dropout(0.2));\n",
    "model.add(LSTM(256));\n",
    "model.add(Dropout(0.2));\n",
    "model.add(Dense(Y.shape[1], activation='softmax'));\n",
    "model.load_weights(\"AliceWeights/alltingle-weights-improvement-45-1.2487.hdf5\");\n",
    "model.compile(loss='categorical_crossentropy', optimizer='adam');\n",
    "# define the checkpoint\n",
    "filepath=\"new-tingleweights-improvement-{epoch:02d}-{loss:.4f}-bigger.hdf5\";\n",
    "checkpoint = ModelCheckpoint(filepath, monitor='loss', verbose=1, save_best_only=True, mode='min');\n",
    "callbacks_list = [checkpoint];\n",
    "# fit the model\n",
    "model.fit(X, Y, nb_epoch=100, batch_size=128, callbacks=callbacks_list);"
   ]
  },
  {
   "cell_type": "markdown",
   "metadata": {},
   "source": [
    "# Generate New Story"
   ]
  },
  {
   "cell_type": "code",
   "execution_count": 21,
   "metadata": {
    "collapsed": false
   },
   "outputs": [
    {
     "name": "stdout",
     "output_type": "stream",
     "text": [
      "Starting Text: \"i don't really think of myself as a criminal, but if i were hard pressed to answer with a definitive\"\n",
      "\n",
      " cock and the sensation of the sensation of prostate orgasm begins to stretch out of my mouth. i can feel my thick body and then start to stroke my hands and literele and then start to beat off my hands and then start to stretch out and start to stretch out and start to stretch out and start to stretch out of my mouth. i can feel the sensation of pleasure is almost in a series of pleasure and then suddenly the sensation of the sensation of the sensation of his shaft is all the sensation of pleasure and then suddenly the sensation of the sensation of the sensation of the sensation of the sensation of the sensation of pleasure. i can feel the sensation of powerful press street and then starts to stretch out of me and then stands up and down across the beast and then start to stroke my hands and lisser my hands and knees. i stand up and start to stand up and then start to stand up and then start to beat off my shoulder and then start to stretch out of my mouth. i can feel my thick body and \n",
      "\n",
      "The end\n",
      "\n"
     ]
    }
   ],
   "source": [
    "numOfCharacters = 1000;\n",
    "\n",
    "model = Sequential();\n",
    "model.add(LSTM(256, batch_input_shape=(1, X.shape[1], X.shape[2]), return_sequences=True, stateful=True))\n",
    "model.add(Dropout(0.2))\n",
    "model.add(LSTM(256, stateful=True));\n",
    "model.add(Dropout(0.2));\n",
    "model.add(Dense(Y.shape[1], activation='softmax'))\n",
    "model.load_weights(\"AliceWeights/alltingle-weights-improvement-45-1.2487.hdf5\");\n",
    "model.compile(loss=\"categorical_crossentropy\", optimizer=\"adam\");\n",
    "startText = startingData[np.random.randint(0, len(startingData))];\n",
    "pattern = [charInt[c] for c in startText];\n",
    "result = startText + \"\";\n",
    "print(\"Starting Text: \\\"\" + startText + \"\\\"\\n\");\n",
    "\n",
    "result = \" \";\n",
    "i = 0;\n",
    "while i < numOfCharacters or result != \" \":\n",
    "    x = numpy.reshape(pattern, (1, len(pattern), 1))\n",
    "    x = x / float(numChars)\n",
    "    prediction = model.predict(x, verbose=0)\n",
    "    index = numpy.argmax(prediction)\n",
    "    result = intChar[index]\n",
    "    seq_in = [intChar[value] for value in pattern]\n",
    "    sys.stdout.write(result)\n",
    "    pattern.append(index)\n",
    "    pattern = pattern[1:len(pattern)]\n",
    "    i+= 1;\n",
    "    \n",
    "print(\"\\n\\nThe end\\n\");"
   ]
  },
  {
   "cell_type": "markdown",
   "metadata": {},
   "source": [
    "# Character by Character New Story"
   ]
  },
  {
   "cell_type": "code",
   "execution_count": 20,
   "metadata": {
    "collapsed": false
   },
   "outputs": [
    {
     "name": "stdout",
     "output_type": "stream",
     "text": [
      "Starting Text: \"public transportation can be a real pain in the ass, especially when you're used to getting around w\"\n",
      "\n",
      "public transportation can be a real pain in the ass, especially when you're used to getting around ith the sensation of the sensation of the sensation of the sensation of the sensation of the sensation of the short that i can feel a strange strange and the sensation of prostate orgasm begins to stretch out of my mouth. i can feel the sensation of the sensation of the sensation of the sensation of the sensation of the sensation of the sensation of the sensation of the sensation of the sensation of the sensation of the sensation of the sensation of the sensation of the sensation of the sensation of the sensation of the sensation of the sensation of the sensation of the sensation of the sensation of the sensation of the sensation of the sensation of the sensation of the sensation of the sensation of the sensation of the sensation of the sensation of the sensation of the sensation of the sensation of the sensation of the sensation of the sensation of the sensation of the sensation of the sensation \n",
      "\n",
      "The end\n",
      "\n"
     ]
    }
   ],
   "source": [
    "from keras.models import Sequential;\n",
    "from keras.layers import Dense, LSTM, Dropout;\n",
    "import sys\n",
    "import numpy\n",
    "\n",
    "numOfCharacters = 1000;\n",
    "\n",
    "model = Sequential();\n",
    "model.add(LSTM(256, batch_input_shape=(1, 1, 1), return_sequences=True, stateful=True))\n",
    "model.add(Dropout(0.2))\n",
    "model.add(LSTM(256, stateful=True));\n",
    "model.add(Dropout(0.2));\n",
    "model.add(Dense(Y.shape[1], activation='softmax'))\n",
    "model.load_weights(\"AliceWeights/alltingle-weights-improvement-45-1.2487.hdf5\");\n",
    "model.compile(loss=\"categorical_crossentropy\", optimizer=\"adam\");\n",
    "startText = startingData[np.random.randint(0, len(startingData))];\n",
    "pattern = [charInt[c] for c in startText];\n",
    "print(\"Starting Text: \\\"\" + startText + \"\\\"\\n\");\n",
    "\n",
    "result = \" \";\n",
    "i = 0;\n",
    "while i < numOfCharacters or result != \" \":\n",
    "    currentInput = [pattern[0]];\n",
    "    x = numpy.reshape(currentInput, (1, len(currentInput), 1))\n",
    "    x = x / float(numChars)\n",
    "    prediction = model.predict(x, verbose=0)\n",
    "    index = numpy.argmax(prediction)\n",
    "    result = intChar[index]\n",
    "    seq_in = [intChar[value] for value in pattern]\n",
    "    pattern = pattern[1:len(pattern)];\n",
    "    if len(pattern) == 0:\n",
    "        pattern.append(index);\n",
    "        sys.stdout.write(result);\n",
    "    else:\n",
    "        sys.stdout.write(intChar[currentInput[0]]);\n",
    "    i+= 1;\n",
    "    \n",
    "print(\"\\n\\nThe end\\n\");"
   ]
  },
  {
   "cell_type": "code",
   "execution_count": null,
   "metadata": {
    "collapsed": true
   },
   "outputs": [],
   "source": []
  }
 ],
 "metadata": {
  "kernelspec": {
   "display_name": "Python 3.5",
   "language": "python",
   "name": "python3"
  },
  "language_info": {
   "codemirror_mode": {
    "name": "ipython",
    "version": 3
   },
   "file_extension": ".py",
   "mimetype": "text/x-python",
   "name": "python",
   "nbconvert_exporter": "python",
   "pygments_lexer": "ipython3",
   "version": "3.5.1"
  }
 },
 "nbformat": 4,
 "nbformat_minor": 1
}
